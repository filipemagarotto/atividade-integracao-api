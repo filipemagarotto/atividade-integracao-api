{
  "nbformat": 4,
  "nbformat_minor": 0,
  "metadata": {
    "colab": {
      "provenance": [],
      "authorship_tag": "ABX9TyP7ulbkoX3otkQS3yVgBH4B",
      "include_colab_link": true
    },
    "kernelspec": {
      "name": "python3",
      "display_name": "Python 3"
    },
    "language_info": {
      "name": "python"
    }
  },
  "cells": [
    {
      "cell_type": "markdown",
      "metadata": {
        "id": "view-in-github",
        "colab_type": "text"
      },
      "source": [
        "<a href=\"https://colab.research.google.com/github/filipemagarotto/atividade-integracao-api/blob/master/Untitled0.ipynb\" target=\"_parent\"><img src=\"https://colab.research.google.com/assets/colab-badge.svg\" alt=\"Open In Colab\"/></a>"
      ]
    },
    {
      "cell_type": "code",
      "execution_count": null,
      "metadata": {
        "id": "_Gi3gbP9CGjY"
      },
      "outputs": [],
      "source": [
        "# Bibliotecas para manipular requisições e repostas\n",
        "import requests as rs # requisições http\n",
        "import json # formatação e manipulação do JSON\n",
        "import base64 # conversão base64\n",
        "import io # manipulação de entrada e saída\n",
        "from matplotlib import pyplot as plt # biblioteca gráfica\n",
        "import matplotlib.image as mpimg # biblioteca gráfica"
      ]
    },
    {
      "cell_type": "markdown",
      "source": [
        "## <b>User<b>"
      ],
      "metadata": {
        "id": "QMuI0_XGOSj-"
      }
    },
    {
      "cell_type": "markdown",
      "source": [
        "# <font color='Tomato'><b>Criar usuário</b></font>"
      ],
      "metadata": {
        "id": "nqhAkrB7ESrk"
      }
    },
    {
      "cell_type": "code",
      "source": [
        "resource = 'user'\n",
        "service = 'new'\n",
        "url = f\"https://todolist-api.edsonmelo.com.br/api/{resource}/{service}/\"\n",
        "\n",
        "payload = {\n",
        "  \"name\": \"Filipe Magarotto\",\n",
        "  \"email\": \"filipemagarotto1213@gmail.com\",\n",
        "  \"username\": \"filipe.magarotto15\",\n",
        "  \"password\": \"senhafoda\"\n",
        "}\n",
        "\n",
        "headers = {'Content-type': 'application/json'}\n",
        "\n",
        "dados = rs.post(url, data=json.dumps(payload), headers=headers)\n",
        "dicionario = json.loads(dados.text)\n",
        "\n",
        "objUsuario = payload.copy()\n",
        "objUsuario[\"id\"] = dicionario[\"id\"]\n",
        "objUsuario[\"token\"] = dicionario[\"token\"]\n",
        "print(objUsuario)\n",
        "\n",
        "print(dicionario, '\\n')\n",
        "for i in dicionario:\n",
        "  print(f'{i}: {dicionario.get(i)}')"
      ],
      "metadata": {
        "colab": {
          "base_uri": "https://localhost:8080/"
        },
        "id": "Cf_QzOMjEf7y",
        "outputId": "09b36af3-1a4b-43e0-8390-254ceae0b0f8"
      },
      "execution_count": null,
      "outputs": [
        {
          "output_type": "stream",
          "name": "stdout",
          "text": [
            "{'name': 'Filipe Magarotto', 'email': 'filipemagarotto1213@gmail.com', 'username': 'filipe.magarotto15', 'password': 'senhafoda', 'id': 182, 'token': 'B9AE4F00316B9D9D66B4'}\n",
            "{'message': 'User Successfully Added', 'id': 182, 'token': 'B9AE4F00316B9D9D66B4'} \n",
            "\n",
            "message: User Successfully Added\n",
            "id: 182\n",
            "token: B9AE4F00316B9D9D66B4\n"
          ]
        }
      ]
    },
    {
      "cell_type": "markdown",
      "source": [
        "# <font color='Tomato'><b>Login</b></font>"
      ],
      "metadata": {
        "id": "yff9Fp2tH-NG"
      }
    },
    {
      "cell_type": "code",
      "source": [
        "resource = 'user'\n",
        "service = 'login'\n",
        "url = f\"https://todolist-api.edsonmelo.com.br/api/{resource}/{service}/\"\n",
        "\n",
        "payload = {\n",
        "  \"username\": objUsuario[\"username\"],\n",
        "  \"password\": objUsuario[\"password\"]\n",
        "}\n",
        "\n",
        "headers = {'Content-type': 'application/json'}\n",
        "\n",
        "dados = rs.post(url, data=json.dumps(payload), headers=headers)\n",
        "dicionario = json.loads(dados.text)\n",
        "\n",
        "print(dicionario, '\\n')\n",
        "for i in dicionario:\n",
        "  print(f'{i}: {dicionario.get(i)}')"
      ],
      "metadata": {
        "colab": {
          "base_uri": "https://localhost:8080/"
        },
        "id": "AvZAlyRUIFPw",
        "outputId": "6be866c0-504f-498a-fd63-cb1157c6c5f5"
      },
      "execution_count": null,
      "outputs": [
        {
          "output_type": "stream",
          "name": "stdout",
          "text": [
            "{'id': 182, 'name': 'Filipe Magarotto', 'email': 'filipemagarotto1213@gmail.com', 'token': 'B9AE4F00316B9D9D66B4', 'picture': None} \n",
            "\n",
            "id: 182\n",
            "name: Filipe Magarotto\n",
            "email: filipemagarotto1213@gmail.com\n",
            "token: B9AE4F00316B9D9D66B4\n",
            "picture: None\n"
          ]
        }
      ]
    },
    {
      "cell_type": "markdown",
      "source": [
        "# <font color='Tomato'><b>Update (exceto senha)</b></font>"
      ],
      "metadata": {
        "id": "LudRvXckIhj_"
      }
    },
    {
      "cell_type": "code",
      "source": [
        "resource = 'user' \n",
        "service = 'update' \n",
        "url = f\"https://todolist-api.edsonmelo.com.br/api/{resource}/{service}/\"\n",
        "\n",
        "payload = {\n",
        "     \"name\": \"Filipe Magarotto\", \n",
        "     \"email\": \"filipe.magarotto15@gmail.com\", \n",
        "     \"username\": \"filipe.magarotto15\", \n",
        "     \"password\": \"senhafoda\", \n",
        "     \"picture\": \"\" \n",
        "}\n",
        "\n",
        "headers = { \n",
        "    'Content-type': 'application/json',\n",
        "    \"Authorization\": objUsuario[\"token\"] \n",
        "}\n",
        "\n",
        "dados = rs.put(url, data=json.dumps(payload), headers=headers) \n",
        "dicionario = json.loads(dados.text)\n",
        "\n",
        "print(dicionario, '\\n') \n",
        "for i in dicionario:\n",
        "   print(f'{i}: {dicionario.get(i)}')"
      ],
      "metadata": {
        "colab": {
          "base_uri": "https://localhost:8080/"
        },
        "id": "fCKaxSY8L6jM",
        "outputId": "1d0dbff1-738b-4f4d-98a3-71e17c79a46c"
      },
      "execution_count": null,
      "outputs": [
        {
          "output_type": "stream",
          "name": "stdout",
          "text": [
            "{'message': 'User Successfully Updated'} \n",
            "\n",
            "message: User Successfully Updated\n"
          ]
        }
      ]
    },
    {
      "cell_type": "markdown",
      "source": [
        "# <font color='Tomato'><b>Update User/password</b></font>"
      ],
      "metadata": {
        "id": "_3mEIRYTM9dX"
      }
    },
    {
      "cell_type": "code",
      "source": [
        "resource = 'user'\n",
        "service = 'updateuserpass'\n",
        "url = f\"https://todolist-api.edsonmelo.com.br/api/{resource}/{service}/\"\n",
        "\n",
        "payload = {\n",
        "  \"username\": \"filipe.magarotto15\",\n",
        "  \"password\": \"senhafoda\",\n",
        "  \"new_username\": \"filipe.magarotto1213\",\n",
        "  \"new_password\": \"senhafoda123\" \n",
        "}\n",
        "\n",
        "headers = {\n",
        "    'Content-type': 'application/json', \n",
        "    \"Authorization\": objUsuario[\"token\"]\n",
        "}\n",
        "\n",
        "dados = rs.put(url, data=json.dumps(payload), headers=headers)\n",
        "dicionario = json.loads(dados.text)\n",
        "\n",
        "print(dicionario, '\\n')\n",
        "for i in dicionario:\n",
        "  print(f'{i}: {dicionario.get(i)}')"
      ],
      "metadata": {
        "id": "XWtMQnlpNHH0"
      },
      "execution_count": null,
      "outputs": []
    },
    {
      "cell_type": "markdown",
      "source": [
        "# <b>Task</b>"
      ],
      "metadata": {
        "id": "2IaF4-LUOgsA"
      }
    },
    {
      "cell_type": "markdown",
      "source": [
        "# <font color='#5d8dac'><b>Nova task</b></font>"
      ],
      "metadata": {
        "id": "HzkO0quUOsNu"
      }
    },
    {
      "cell_type": "code",
      "source": [
        "resource = 'task'\n",
        "service = 'new'\n",
        "url = f\"https://todolist-api.edsonmelo.com.br/api/{resource}/{service}/\"\n",
        "\n",
        "payload = {\n",
        "  \"name\": \"Lavar o carro\"\n",
        "}\n",
        "\n",
        "headers = {\n",
        "    'Content-type': 'application/json', \n",
        "    \"Authorization\": objUsuario[\"token\"]\n",
        "}\n",
        "\n",
        "dados = rs.post(url, data=json.dumps(payload), headers=headers)\n",
        "dicionario = json.loads(dados.text)\n",
        "\n",
        "print(dicionario, '\\n')\n",
        "for i in dicionario:\n",
        "  print(f'{i}: {dicionario.get(i)}')"
      ],
      "metadata": {
        "colab": {
          "base_uri": "https://localhost:8080/"
        },
        "id": "6Fk7fATPPmY3",
        "outputId": "5b9bfb38-409b-405f-c6b4-5208e9b618e9"
      },
      "execution_count": null,
      "outputs": [
        {
          "output_type": "stream",
          "name": "stdout",
          "text": [
            "{'message': 'Task Successfully Added'} \n",
            "\n",
            "message: Task Successfully Added\n"
          ]
        }
      ]
    },
    {
      "cell_type": "markdown",
      "source": [
        "# <font color='#5d8dac'><b>Listar</b></font>"
      ],
      "metadata": {
        "id": "OtPV-uP1RCaf"
      }
    },
    {
      "cell_type": "code",
      "source": [
        "resource = 'task'\n",
        "service = 'search'\n",
        "url = f\"https://todolist-api.edsonmelo.com.br/api/{resource}/{service}/\"\n",
        "\n",
        "headers = {\n",
        "    'Content-type': 'application/json', \n",
        "    \"Authorization\": objUsuario[\"token\"]\n",
        "    }\n",
        "\n",
        "dados = rs.post(url, data=json.dumps(payload), headers=headers)\n",
        "dicionario = json.loads(dados.text)\n",
        "length = len(dicionario)\n",
        "n = 0\n",
        "\n",
        "while n < length:\n",
        "  dict = dicionario[n]\n",
        "  for i in dict:\n",
        "    print(f'{i}: {dict.get(i)}')\n",
        "  print('------------------------')\n",
        "  n += 1\n",
        "  "
      ],
      "metadata": {
        "colab": {
          "base_uri": "https://localhost:8080/"
        },
        "id": "K6K9e0x5RRa1",
        "outputId": "b133bb41-1cbc-49b7-8f24-9e2f2aeb989b"
      },
      "execution_count": null,
      "outputs": [
        {
          "output_type": "stream",
          "name": "stdout",
          "text": [
            "id: 169\n",
            "userId: 182\n",
            "name: testee\n",
            "date: 2023-05-04\n",
            "realized: 0\n",
            "------------------------\n",
            "id: 170\n",
            "userId: 182\n",
            "name: Lavar o carro\n",
            "date: 2023-05-04\n",
            "realized: 1\n",
            "------------------------\n"
          ]
        }
      ]
    },
    {
      "cell_type": "markdown",
      "source": [
        "# <font color='#5d8dac'><b>Atualizar</b></font>"
      ],
      "metadata": {
        "id": "3jl9kRd-SyuI"
      }
    },
    {
      "cell_type": "code",
      "source": [
        "resource = 'task'\n",
        "service = 'update'\n",
        "url = f\"https://todolist-api.edsonmelo.com.br/api/{resource}/{service}/\"\n",
        "\n",
        "payload = {\n",
        "  \"id\": \"170\",\n",
        "  \"name\": \"Lavar o carro\",\n",
        "  \"realized\": \"1\"\n",
        "}\n",
        "headers = {\n",
        "    'Content-type': 'application/json', \n",
        "    \"Authorization\": objUsuario[\"token\"]\n",
        "    }\n",
        "\n",
        "dados = rs.put(url, data=json.dumps(payload), headers=headers)\n",
        "dicionario = json.loads(dados.text)\n",
        "\n",
        "print(dicionario, '\\n')\n",
        "for i in dicionario:\n",
        "  print(f'{i}: {dicionario.get(i)}')"
      ],
      "metadata": {
        "colab": {
          "base_uri": "https://localhost:8080/"
        },
        "id": "dy3q7abGTAQl",
        "outputId": "f836a6b0-4bb9-40a6-d032-0cb76cfe3e2f"
      },
      "execution_count": null,
      "outputs": [
        {
          "output_type": "stream",
          "name": "stdout",
          "text": [
            "{'message': 'Task Successfully Updated'} \n",
            "\n",
            "message: Task Successfully Updated\n"
          ]
        }
      ]
    },
    {
      "cell_type": "markdown",
      "source": [
        "# <font color='#5d8dac'><b>Editar</b></font>"
      ],
      "metadata": {
        "id": "cBEzYGTxTWIQ"
      }
    },
    {
      "cell_type": "code",
      "source": [
        "resource = 'task'\n",
        "service = 'edit'\n",
        "url = f\"https://todolist-api.edsonmelo.com.br/api/{resource}/{service}/\"\n",
        "\n",
        "payload = {\"id\": \"170\"}\n",
        "headers = {\n",
        "    'Content-type': 'application/json', \n",
        "    \"Authorization\": objUsuario[\"token\"]\n",
        "}\n",
        "\n",
        "dados = rs.post(url, data=json.dumps(payload), headers=headers)\n",
        "dicionario = json.loads(dados.text)\n",
        "\n",
        "print(dicionario, '\\n')\n",
        "for i in dicionario:\n",
        "  print(f'{i}: {dicionario.get(i)}')"
      ],
      "metadata": {
        "colab": {
          "base_uri": "https://localhost:8080/"
        },
        "id": "9m4I8CxOTZLQ",
        "outputId": "2c7a9592-2290-4b90-9e47-95d1dcd290ee"
      },
      "execution_count": null,
      "outputs": [
        {
          "output_type": "stream",
          "name": "stdout",
          "text": [
            "{'id': 170, 'userId': 182, 'name': 'Lavar o carro', 'date': '2023-05-04', 'realized': 1} \n",
            "\n",
            "id: 170\n",
            "userId: 182\n",
            "name: Lavar o carro\n",
            "date: 2023-05-04\n",
            "realized: 1\n"
          ]
        }
      ]
    },
    {
      "cell_type": "markdown",
      "source": [
        "# <font color='#5d8dac'><b>Excluir</b></font>"
      ],
      "metadata": {
        "id": "b09WRBtjUctn"
      }
    },
    {
      "cell_type": "code",
      "source": [
        "resource = 'task'\n",
        "service = 'delete'\n",
        "url = f\"https://todolist-api.edsonmelo.com.br/api/{resource}/{service}/\"\n",
        "\n",
        "payload = {\"id\": \"169\"}\n",
        "\n",
        "headers = {\n",
        "    'Content-type': 'application/json', \n",
        "    \"Authorization\": objUsuario[\"token\"]\n",
        "}\n",
        "\n",
        "dados = rs.delete(url, data=json.dumps(payload), headers=headers)\n",
        "dicionario = json.loads(dados.text)\n",
        "\n",
        "print(dicionario, '\\n')\n",
        "for i in dicionario:\n",
        "  print(f'{i}: {dicionario.get(i)}')"
      ],
      "metadata": {
        "colab": {
          "base_uri": "https://localhost:8080/"
        },
        "id": "5s7lx51UUffD",
        "outputId": "98fc0887-ca10-4e25-ed20-6fdb21df74fc"
      },
      "execution_count": null,
      "outputs": [
        {
          "output_type": "stream",
          "name": "stdout",
          "text": [
            "{'message': 'Task deleted Successfully'} \n",
            "\n",
            "message: Task deleted Successfully\n"
          ]
        }
      ]
    }
  ]
}